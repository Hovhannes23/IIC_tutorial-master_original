{
 "cells": [
  {
   "cell_type": "markdown",
   "metadata": {
    "pycharm": {
     "name": "#%% md\n"
    }
   },
   "source": [
    "# Part 3: Practice"
   ]
  },
  {
   "cell_type": "markdown",
   "metadata": {
    "pycharm": {
     "name": "#%% md\n"
    }
   },
   "source": [
    "This is the last part of IIC tutorial. Here we try to use it for clustering and semi-supervised classification of MNIST.\n",
    "Some useful functions are implemented in [utils](https://github.com/vandedok/IIC_tutorial/blob/master/tutorial/utils.py) and in [preprocess](https://github.com/vandedok/IIC_tutorial/blob/master/tutorial/preprocess.py) modules. Feel free to look there if you want to understand how everything works in detail."
   ]
  },
  {
   "cell_type": "markdown",
   "metadata": {
    "pycharm": {
     "name": "#%% md\n"
    }
   },
   "source": [
    "If you a working in Google colab you need to do  a coouple of additional moves. First, go to \"Runtime\" menu, click on \"Change runtme type\", and select GPU option in \"Runtime type\n",
    "Hardware accelerator\" menu. After this uncomment and run the cell below. When the execution is finished, restart the runtime."
   ]
  },
  {
   "cell_type": "code",
   "execution_count": 1,
   "metadata": {
    "pycharm": {
     "name": "#%%\n"
    }
   },
   "outputs": [],
   "source": [
    "# !curl https://raw.githubusercontent.com/vandedok/IIC_tutorial/master/tutorial/requirements_colab.txt --output requirements_colab.txt\n",
    "# !curl https://raw.githubusercontent.com/vandedok/IIC_tutorial/master/tutorial/utils.py --output utils.py\n",
    "# !curl https://raw.githubusercontent.com/vandedok/IIC_tutorial/master/tutorial/preprocess.py --output preprocess.py\n",
    "# !pip install -r requirements_colab.txt"
   ]
  },
  {
   "cell_type": "markdown",
   "metadata": {
    "pycharm": {
     "name": "#%% md\n"
    }
   },
   "source": [
    "Imports"
   ]
  },
  {
   "cell_type": "code",
   "execution_count": 2,
   "metadata": {
    "pycharm": {
     "name": "#%%\n"
    }
   },
   "outputs": [],
   "source": [
    "import random\n",
    "import os\n",
    "import sys\n",
    "from tqdm.notebook import tqdm\n",
    "\n",
    "import warnings\n",
    "\n",
    "warnings.simplefilter(action=\"ignore\", category=FutureWarning)\n",
    "# warnings.simplefilter(action='ignore', category=UserWarning)\n",
    "import numpy as np\n",
    "import torch\n",
    "from torch import nn\n",
    "import albumentations as A\n",
    "import torchvision.models as models\n",
    "from torch.utils.data import Dataset, DataLoader\n",
    "\n",
    "from sklearn.metrics import adjusted_rand_score, accuracy_score\n",
    "from sklearn.metrics.cluster import homogeneity_score, completeness_score\n",
    "\n",
    "from utils import (\n",
    "    visualize_augmentations,\n",
    "    weight_init,\n",
    "    print_while_trainig,\n",
    "    get_cluster_labeling,\n",
    "    visualise_clusetering_results,\n",
    "    stratified_split,\n",
    ")\n",
    "from utils import create_mapping, print_mapping\n",
    "from preprocess import create_MNIST_arrays, manually_download_MNIST"
   ]
  },
  {
   "cell_type": "code",
   "execution_count": 3,
   "metadata": {
    "pycharm": {
     "name": "#%%\n"
    }
   },
   "outputs": [],
   "source": [
    "# This  should  enable automatic downloading of MNIST\n",
    "from six.moves import urllib\n",
    "\n",
    "opener = urllib.request.build_opener()\n",
    "opener.addheaders = [(\"User-agent\", \"Mozilla/5.0\")]\n",
    "urllib.request.install_opener(opener)"
   ]
  },
  {
   "cell_type": "code",
   "execution_count": 4,
   "metadata": {
    "pycharm": {
     "name": "#%%\n"
    }
   },
   "outputs": [
    {
     "data": {
      "text/plain": "<torch._C.Generator at 0x7f19571fbdf0>"
     },
     "execution_count": 4,
     "metadata": {},
     "output_type": "execute_result"
    }
   ],
   "source": [
    "# Fix torch randomization for reproducability\n",
    "torch.manual_seed(42)"
   ]
  },
  {
   "cell_type": "markdown",
   "metadata": {
    "pycharm": {
     "name": "#%% md\n"
    }
   },
   "source": [
    "## Preprocessing the data"
   ]
  },
  {
   "cell_type": "markdown",
   "metadata": {
    "pycharm": {
     "name": "#%% md\n"
    }
   },
   "source": [
    "First of all we define the augmentations, which are one of the key elements of IIC approach. I use Albumentations library to compose horizontal flips, rotations, perspective changes, superpixels, noise, brightness and contrast transforms. Each of theses transforms can be applied with a certain probability to an input image."
   ]
  },
  {
   "cell_type": "code",
   "execution_count": 5,
   "metadata": {
    "pycharm": {
     "name": "#%%\n"
    },
    "tags": []
   },
   "outputs": [],
   "source": [
    "alb_transforms = A.Compose(\n",
    "    [\n",
    "        A.HorizontalFlip(),\n",
    "        A.Rotate(limit=20, p=0.1),\n",
    "        A.IAAPerspective(scale=(0.1, 0.1), p=0.1),\n",
    "        A.IAASuperpixels(p_replace=0.3, p=0.1),\n",
    "        A.IAAAdditiveGaussianNoise(scale=(0.1 * 255, 0.2 * 255), p=0.7),\n",
    "        A.RandomBrightnessContrast(brightness_limit=0.5, contrast_limit=0.6, p=0.7),\n",
    "    ]\n",
    ")"
   ]
  },
  {
   "cell_type": "markdown",
   "metadata": {
    "pycharm": {
     "name": "#%% md\n"
    }
   },
   "source": [
    "Now we need to define a dataset. We can do it in a usual way, by inheriting MNIST dataset class and editing the transforms call in ```__getitem__``` method like [here](https://pytorch.org/tutorials/beginner/data_loading_tutorial.html). However this approach has a huge drawback -- at each call a new augmentation is computed, so during the training a lot of time is spent not on the forward and backward runs, but on getting an augmented batch. To avoid this, we precompute the augmentations in advance  and save them in RAM. It is done in the ```RAMAugMNIST``` class, which you can see below. In fact all the preprocessing is done in ```create_MNIST_arrays```  function from [preprocessing module](link_to_preprocessing_module)."
   ]
  },
  {
   "cell_type": "code",
   "execution_count": 6,
   "metadata": {
    "pycharm": {
     "name": "#%%\n"
    }
   },
   "outputs": [],
   "source": [
    "class RAMAugMNIST(Dataset):\n",
    "    \"\"\"The dataset contatining the original and augmented data in RAM\n",
    "\n",
    "    Attributes\n",
    "    ----------\n",
    "    original_dataset : numpy.ndarray\n",
    "        shape (N,...) where N is the number of data samples, and \"...\" stands for\n",
    "        the shape of a single data sample. The array with riginal images.\n",
    "    labels : numpy.ndarray\n",
    "        shape (N,). Array of class labels\n",
    "    aug_datasets : list of numpy.ndarray\n",
    "        list of augmented datasets with the same shape as original_dataset\n",
    "    aug_number : int\n",
    "        number of augmentations\n",
    "    \"\"\"\n",
    "\n",
    "    def __init__(\n",
    "        self,\n",
    "        augs_files=None,\n",
    "        alb_transforms=A.Compose([]),\n",
    "        aug_number=1,\n",
    "        target_dir=\"./dataset\",\n",
    "        aug_batch_size=1024,\n",
    "        aug_num_workers=1,\n",
    "    ):\n",
    "        \"\"\"Datasetataset initialisation\n",
    "\n",
    "        Parameters\n",
    "        ----------\n",
    "        augs_files : list of str\n",
    "            list of pathes to binary np files with mnist augmentations. If this parameter is specifed,\n",
    "            there is no need to pass other parameters\n",
    "        alb_transforms : albumentations.core.composition.Compose\n",
    "            a composition of Albumentations transforms. Ignored if augs_files is specified.\n",
    "        aug_number : int\n",
    "            number of augmentations to make. Ignored if augs_files is specified.\n",
    "        target_dir : str\n",
    "            dir to store the dataset. Ignored if augs_files is specified.\n",
    "        batch_size : int\n",
    "            size of batch used in augmentation. Ignored if augs_files is specified.\n",
    "        num_workers : int\n",
    "            number of CPU threads to use in augmentations. Ignored if augs_files is specified.\n",
    "\n",
    "        \"\"\"\n",
    "\n",
    "        if augs_files is not None:\n",
    "            aug_number = 0\n",
    "\n",
    "        self.original_dataset, self.labels, self.aug_datasets = create_MNIST_arrays(\n",
    "            alb_transforms=alb_transforms,\n",
    "            aug_number=aug_number,\n",
    "            target_dir=target_dir,\n",
    "            batch_size=aug_batch_size,\n",
    "            num_workers=aug_num_workers,\n",
    "        )\n",
    "        self.aug_number = aug_number\n",
    "\n",
    "        if augs_files is not None:\n",
    "            print(\"Loading augmented datasets...\", end=\" \")\n",
    "            self.aug_datasets = [np.load(x) for x in augs_files]\n",
    "            self.aug_number = len(augs_files)\n",
    "            print(\"Done!\")\n",
    "\n",
    "    def save_augs(self, dataset_dir):\n",
    "        \"\"\"saves augmentations as binary np files\"\"\"\n",
    "\n",
    "        print(\"Saving augs in %s...\" % dataset_dir, end=\" \")\n",
    "        for aug_idx, aug_array in enumerate(self.aug_datasets):\n",
    "            file_path = os.path.join(dataset_dir, \"mnist_aug_\" + str(aug_idx) + \".np\")\n",
    "            with open(file_path, \"wb\") as file:\n",
    "                np.save(file, aug_array)\n",
    "        print(\"Done!\")\n",
    "\n",
    "    def __len__(self):\n",
    "        \"\"\"returns the length of the dataset\"\"\"\n",
    "        return self.original_dataset.shape[0]\n",
    "\n",
    "    def __getitem__(self, idx):\n",
    "        \"\"\"Returns the dataset sample and index idx\n",
    "\n",
    "        Returns\n",
    "        -------\n",
    "        return_dict : dict\n",
    "            dict with the following keys:\n",
    "            \"original\" : numpy.ndarray\n",
    "                original image taken from self.original_dataset\n",
    "            \"aug\" : numpy.ndarray\n",
    "                augmented image taken randomly from one of self.aug_datasets\n",
    "            \"label\" : int\n",
    "                run label of the image taken form self.labels\n",
    "        \"\"\"\n",
    "        type(idx)\n",
    "        original_image = np.array(\n",
    "            self.original_dataset[idx : idx + 1, :, :], copy=True, dtype=np.float32\n",
    "        )\n",
    "        label = np.array(self.labels[idx], copy=True, dtype=np.float32)\n",
    "\n",
    "        return_dict = {\"original\": original_image, \"label\": label}\n",
    "\n",
    "        if self.aug_number > 0:\n",
    "            aug_version = int(self.aug_number * random.random())\n",
    "            aug_image = np.array(\n",
    "                self.aug_datasets[aug_version][idx : idx + 1, :, :],\n",
    "                copy=True,\n",
    "                dtype=np.float32,\n",
    "            )\n",
    "            return_dict[\"aug\"] = aug_image\n",
    "\n",
    "        return return_dict"
   ]
  },
  {
   "cell_type": "markdown",
   "metadata": {
    "pycharm": {
     "name": "#%% md\n"
    }
   },
   "source": [
    "If you want to see, how  it is implemented, feel free look at the  [preprocessing module](link_to_preprocessing_module). However for this tutorial it's sufficient to know, that at this stage several numpy arrays are created and stored in RAM: one containing the original MNIST, one containing the labels and several ones containing the augmented versions of MNIST. Now let's define the dataset dir:"
   ]
  },
  {
   "cell_type": "code",
   "execution_count": 7,
   "metadata": {
    "pycharm": {
     "name": "#%%\n"
    }
   },
   "outputs": [],
   "source": [
    "DATASET_DIR = \"./dataset/\""
   ]
  },
  {
   "cell_type": "markdown",
   "metadata": {
    "pycharm": {
     "name": "#%% md\n"
    }
   },
   "source": [
    "And create a dataset. I recommend to use 10 different augmentation (the ```aug_number``` parameter). However, if you don't want to wait it's possible to use less number of augmentations, say 5, and get a decent result:"
   ]
  },
  {
   "cell_type": "markdown",
   "metadata": {
    "pycharm": {
     "name": "#%% md\n"
    }
   },
   "source": [
    "<span style=\"font-size:larger;\">WARNING: this cell can take several minutes to run! A simple way to improve the performance is to set num_workers equal to your computer CPU cores (2 for google colab) </span>"
   ]
  },
  {
   "cell_type": "code",
   "execution_count": 7,
   "metadata": {
    "pycharm": {
     "name": "#%%\n"
    }
   },
   "outputs": [
    {
     "name": "stdout",
     "output_type": "stream",
     "text": [
      "Downloading MNIST... Done!\n"
     ]
    }
   ],
   "source": [
    "manually_download_MNIST(DATASET_DIR)\n"
   ]
  },
  {
   "cell_type": "markdown",
   "metadata": {
    "pycharm": {
     "name": "#%% md\n"
    }
   },
   "source": [
    "Now we perform the stratified train-val split of the dataset. This is needed for the semi-supervised classification setting. The validation part will be small -- only 600 images. We assume, that the train part has no labels so we are are not going to use them. Stratification is needed to make sure that each class is represented equally in the validation part."
   ]
  },
  {
   "cell_type": "code",
   "execution_count": 8,
   "metadata": {
    "pycharm": {
     "name": "#%%\n"
    }
   },
   "outputs": [
    {
     "name": "stdout",
     "output_type": "stream",
     "text": [
      "Fetching original dataset... Done!\n",
      "Making aug #0\n"
     ]
    },
    {
     "data": {
      "text/plain": "  0%|          | 0/1 [00:00<?, ?it/s]",
      "application/vnd.jupyter.widget-view+json": {
       "version_major": 2,
       "version_minor": 0,
       "model_id": "7974ec3c8af44fb6b2b43da01838f854"
      }
     },
     "metadata": {},
     "output_type": "display_data"
    },
    {
     "name": "stdout",
     "output_type": "stream",
     "text": [
      "Making aug #1\n"
     ]
    },
    {
     "data": {
      "text/plain": "  0%|          | 0/1 [00:00<?, ?it/s]",
      "application/vnd.jupyter.widget-view+json": {
       "version_major": 2,
       "version_minor": 0,
       "model_id": "5be2c132c25e47959b7d70fd8310ae2b"
      }
     },
     "metadata": {},
     "output_type": "display_data"
    },
    {
     "name": "stdout",
     "output_type": "stream",
     "text": [
      "Making aug #2\n"
     ]
    },
    {
     "data": {
      "text/plain": "  0%|          | 0/1 [00:00<?, ?it/s]",
      "application/vnd.jupyter.widget-view+json": {
       "version_major": 2,
       "version_minor": 0,
       "model_id": "b7677f93d5e04844891042df3e177858"
      }
     },
     "metadata": {},
     "output_type": "display_data"
    },
    {
     "name": "stdout",
     "output_type": "stream",
     "text": [
      "Making aug #3\n"
     ]
    },
    {
     "data": {
      "text/plain": "  0%|          | 0/1 [00:00<?, ?it/s]",
      "application/vnd.jupyter.widget-view+json": {
       "version_major": 2,
       "version_minor": 0,
       "model_id": "910f574f3df4460db8619d957c447aa1"
      }
     },
     "metadata": {},
     "output_type": "display_data"
    },
    {
     "name": "stdout",
     "output_type": "stream",
     "text": [
      "Making aug #4\n"
     ]
    },
    {
     "data": {
      "text/plain": "  0%|          | 0/1 [00:00<?, ?it/s]",
      "application/vnd.jupyter.widget-view+json": {
       "version_major": 2,
       "version_minor": 0,
       "model_id": "df8237893da04af2a4642f19d1046046"
      }
     },
     "metadata": {},
     "output_type": "display_data"
    },
    {
     "name": "stdout",
     "output_type": "stream",
     "text": [
      "Making aug #5\n"
     ]
    },
    {
     "data": {
      "text/plain": "  0%|          | 0/1 [00:00<?, ?it/s]",
      "application/vnd.jupyter.widget-view+json": {
       "version_major": 2,
       "version_minor": 0,
       "model_id": "ffb48a3106394ffcbeb8bc0f521b4879"
      }
     },
     "metadata": {},
     "output_type": "display_data"
    },
    {
     "name": "stdout",
     "output_type": "stream",
     "text": [
      "Making aug #6\n"
     ]
    },
    {
     "data": {
      "text/plain": "  0%|          | 0/1 [00:00<?, ?it/s]",
      "application/vnd.jupyter.widget-view+json": {
       "version_major": 2,
       "version_minor": 0,
       "model_id": "04c94e0499b945dd87178b9e39479433"
      }
     },
     "metadata": {},
     "output_type": "display_data"
    },
    {
     "name": "stdout",
     "output_type": "stream",
     "text": [
      "Making aug #7\n"
     ]
    },
    {
     "data": {
      "text/plain": "  0%|          | 0/1 [00:00<?, ?it/s]",
      "application/vnd.jupyter.widget-view+json": {
       "version_major": 2,
       "version_minor": 0,
       "model_id": "2198df3da0524bb08c374705b5a70922"
      }
     },
     "metadata": {},
     "output_type": "display_data"
    },
    {
     "name": "stdout",
     "output_type": "stream",
     "text": [
      "Making aug #8\n"
     ]
    },
    {
     "data": {
      "text/plain": "  0%|          | 0/1 [00:00<?, ?it/s]",
      "application/vnd.jupyter.widget-view+json": {
       "version_major": 2,
       "version_minor": 0,
       "model_id": "786e42ba6a2a42e09bca7041a975ca33"
      }
     },
     "metadata": {},
     "output_type": "display_data"
    },
    {
     "name": "stdout",
     "output_type": "stream",
     "text": [
      "Making aug #9\n"
     ]
    },
    {
     "data": {
      "text/plain": "  0%|          | 0/1 [00:00<?, ?it/s]",
      "application/vnd.jupyter.widget-view+json": {
       "version_major": 2,
       "version_minor": 0,
       "model_id": "468134865d964b5b9a2fa9dd07a1a25d"
      }
     },
     "metadata": {},
     "output_type": "display_data"
    }
   ],
   "source": [
    "dataset_np = RAMAugMNIST(\n",
    "    alb_transforms=alb_transforms,\n",
    "    aug_number=10,\n",
    "    target_dir=DATASET_DIR,\n",
    "    aug_batch_size=1024,\n",
    "    aug_num_workers=11,\n",
    ")"
   ]
  },
  {
   "cell_type": "code",
   "execution_count": 9,
   "metadata": {
    "pycharm": {
     "name": "#%%\n"
    }
   },
   "outputs": [],
   "source": [
    "dataset_train, dataset_val = stratified_split(dataset_np, train_size=0.8)"
   ]
  },
  {
   "cell_type": "markdown",
   "metadata": {
    "pycharm": {
     "name": "#%% md\n"
    }
   },
   "source": [
    "Define the dataloaders:"
   ]
  },
  {
   "cell_type": "code",
   "execution_count": 10,
   "metadata": {
    "pycharm": {
     "name": "#%%\n"
    }
   },
   "outputs": [],
   "source": [
    "BATCH_SIZE = 20\n",
    "dataloader_train = DataLoader(\n",
    "    dataset_train, batch_size=BATCH_SIZE, shuffle=True, num_workers=16\n",
    ")\n",
    "dataloader_val = DataLoader(\n",
    "    dataset_val, batch_size=BATCH_SIZE, shuffle=True, num_workers=16\n",
    ")"
   ]
  },
  {
   "cell_type": "markdown",
   "metadata": {
    "pycharm": {
     "name": "#%% md\n"
    }
   },
   "source": [
    "It's useful to see how our augmentations look. It can be done with the ```visualize_augmentations``` from [utils](https://github.com/vandedok/IIC_tutorial/blob/master/tutorial/utils.py) module. Each run will fetch random augmentations."
   ]
  },
  {
   "cell_type": "code",
   "execution_count": 11,
   "metadata": {
    "pycharm": {
     "name": "#%%\n"
    }
   },
   "outputs": [
    {
     "data": {
      "text/plain": "<Figure size 864x432 with 12 Axes>",
      "image/png": "[encoded data removed]"
     },
     "metadata": {
      "needs_background": "light"
     },
     "output_type": "display_data"
    }
   ],
   "source": [
    "visualize_augmentations(dataset_val, samples=6)"
   ]
  },
  {
   "cell_type": "markdown",
   "metadata": {
    "pycharm": {
     "name": "#%% md\n"
    }
   },
   "source": [
    "Great! We successfully  preprocessed the data and ready to build a model."
   ]
  },
  {
   "cell_type": "markdown",
   "metadata": {
    "pycharm": {
     "name": "#%% md\n"
    }
   },
   "source": [
    "## The model"
   ]
  },
  {
   "cell_type": "markdown",
   "metadata": {
    "pycharm": {
     "name": "#%% md\n"
    }
   },
   "source": [
    "It's time to define a clustering model based on resnet backbone. This is a really basic CV model with the only unusual part being the presence of two fully connected layers: ```clustering_head``` and ```overclustering_head```overclustering_head. The latter one is needed to improve the learning process (see <a href=\"https://arxiv.org/abs/1807.06653\">original paper</a>  or appendix in [Part 1](https://github.com/vandedok/IIC_tutorial/blob/master/tutorial/part_1.md) of this tutorial)."
   ]
  },
  {
   "cell_type": "markdown",
   "metadata": {
    "pycharm": {
     "name": "#%% md\n"
    }
   },
   "source": [
    "Let's define a ResNet backbone, based, say, on  ResNat18 model. In IIC approach we don't expect the model to have any prior knowledge, so we set \"pretrained\" parameter to False."
   ]
  },
  {
   "cell_type": "code",
   "execution_count": 12,
   "metadata": {
    "pycharm": {
     "name": "#%%\n"
    }
   },
   "outputs": [],
   "source": [
    "resnet = models.resnet18(pretrained=False)"
   ]
  },
  {
   "cell_type": "markdown",
   "metadata": {
    "pycharm": {
     "name": "#%% md\n"
    }
   },
   "source": [
    "First we want to get bare CNN backbone. This means, that we need to cut a couple of layers from the top of the model. To see which ones we need to cut, lest print several last layers:"
   ]
  },
  {
   "cell_type": "code",
   "execution_count": 13,
   "metadata": {
    "pycharm": {
     "name": "#%%\n"
    }
   },
   "outputs": [
    {
     "data": {
      "text/plain": "[Sequential(\n   (0): BasicBlock(\n     (conv1): Conv2d(256, 512, kernel_size=(3, 3), stride=(2, 2), padding=(1, 1), bias=False)\n     (bn1): BatchNorm2d(512, eps=1e-05, momentum=0.1, affine=True, track_running_stats=True)\n     (relu): ReLU(inplace=True)\n     (conv2): Conv2d(512, 512, kernel_size=(3, 3), stride=(1, 1), padding=(1, 1), bias=False)\n     (bn2): BatchNorm2d(512, eps=1e-05, momentum=0.1, affine=True, track_running_stats=True)\n     (downsample): Sequential(\n       (0): Conv2d(256, 512, kernel_size=(1, 1), stride=(2, 2), bias=False)\n       (1): BatchNorm2d(512, eps=1e-05, momentum=0.1, affine=True, track_running_stats=True)\n     )\n   )\n   (1): BasicBlock(\n     (conv1): Conv2d(512, 512, kernel_size=(3, 3), stride=(1, 1), padding=(1, 1), bias=False)\n     (bn1): BatchNorm2d(512, eps=1e-05, momentum=0.1, affine=True, track_running_stats=True)\n     (relu): ReLU(inplace=True)\n     (conv2): Conv2d(512, 512, kernel_size=(3, 3), stride=(1, 1), padding=(1, 1), bias=False)\n     (bn2): BatchNorm2d(512, eps=1e-05, momentum=0.1, affine=True, track_running_stats=True)\n   )\n ),\n AdaptiveAvgPool2d(output_size=(1, 1)),\n Linear(in_features=512, out_features=1000, bias=True)]"
     },
     "execution_count": 13,
     "metadata": {},
     "output_type": "execute_result"
    }
   ],
   "source": [
    "list(resnet.children())[-3:]"
   ]
  },
  {
   "cell_type": "markdown",
   "metadata": {
    "pycharm": {
     "name": "#%% md\n"
    }
   },
   "source": [
    "The layers to cut are AdaptiveAvgPool2d and Linear:"
   ]
  },
  {
   "cell_type": "code",
   "execution_count": 14,
   "metadata": {
    "pycharm": {
     "name": "#%%\n"
    }
   },
   "outputs": [],
   "source": [
    "modules_to_keep = list(resnet.children())[:-2]"
   ]
  },
  {
   "cell_type": "markdown",
   "metadata": {
    "pycharm": {
     "name": "#%% md\n"
    }
   },
   "source": [
    "The original ResNet18 model is designed to process to color images. We can adapt it to grayscale images by modifying the first layer:"
   ]
  },
  {
   "cell_type": "code",
   "execution_count": 15,
   "outputs": [
    {
     "name": "stdout",
     "output_type": "stream",
     "text": [
      "The first layer: Conv2d(3, 64, kernel_size=(7, 7), stride=(2, 2), padding=(3, 3), bias=False)\n"
     ]
    }
   ],
   "source": [
    "print(\"The first layer:\", modules_to_keep[0])"
   ],
   "metadata": {
    "collapsed": false,
    "pycharm": {
     "name": "#%%\n"
    }
   }
  },
  {
   "cell_type": "markdown",
   "source": [
    "All we need to do is to redefine this module with the same parameters except for the ```in_channels```:"
   ],
   "metadata": {
    "collapsed": false,
    "pycharm": {
     "name": "#%% md\n"
    }
   }
  },
  {
   "cell_type": "code",
   "execution_count": 16,
   "outputs": [],
   "source": [
    "modules_to_keep[0] = nn.Conv2d(\n",
    "    1, 64, kernel_size=3, stride=1, padding=2, bias=False\n",
    ")"
   ],
   "metadata": {
    "collapsed": false,
    "pycharm": {
     "name": "#%%\n"
    }
   }
  },
  {
   "cell_type": "code",
   "execution_count": 17,
   "outputs": [
    {
     "name": "stdout",
     "output_type": "stream",
     "text": [
      "The first layer: Conv2d(1, 64, kernel_size=(3, 3), stride=(1, 1), padding=(2, 2), bias=False)\n"
     ]
    }
   ],
   "source": [
    "print(\"The first layer:\", modules_to_keep[0])"
   ],
   "metadata": {
    "collapsed": false,
    "pycharm": {
     "name": "#%%\n"
    }
   }
  },
  {
   "cell_type": "markdown",
   "source": [
    "Now let's append Flatten layer and compose a backbone to see how many output features it has."
   ],
   "metadata": {
    "collapsed": false,
    "pycharm": {
     "name": "#%% md\n"
    }
   }
  },
  {
   "cell_type": "code",
   "execution_count": 18,
   "metadata": {
    "pycharm": {
     "name": "#%%\n"
    }
   },
   "outputs": [],
   "source": [
    "modules_to_keep.append(nn.Flatten())\n",
    "backbone = nn.Sequential(*modules_to_keep)"
   ]
  },
  {
   "cell_type": "markdown",
   "metadata": {
    "pycharm": {
     "name": "#%% md\n"
    }
   },
   "source": [
    "To see the number of output features we define a batch of images. To speed up the computation we leave only tree images in our batch:"
   ]
  },
  {
   "cell_type": "code",
   "execution_count": 19,
   "metadata": {
    "pycharm": {
     "name": "#%%\n"
    }
   },
   "outputs": [
    {
     "name": "stdout",
     "output_type": "stream",
     "text": [
      "Batch shape: torch.Size([3, 1, 28, 28])\n"
     ]
    }
   ],
   "source": [
    "batch = next(iter(dataloader_train))[\"original\"]\n",
    "batch = batch[0:3]\n",
    "print(\"Batch shape:\", batch.shape)"
   ]
  },
  {
   "cell_type": "markdown",
   "metadata": {
    "pycharm": {
     "name": "#%% md\n"
    }
   },
   "source": [
    " It's time to see how many features our backbone outputs:"
   ]
  },
  {
   "cell_type": "code",
   "execution_count": 20,
   "metadata": {
    "pycharm": {
     "name": "#%%\n"
    }
   },
   "outputs": [
    {
     "name": "stdout",
     "output_type": "stream",
     "text": [
      "Output shape: torch.Size([3, 2048])\n"
     ]
    }
   ],
   "source": [
    "print(\"Output shape:\", backbone(batch).shape)"
   ]
  },
  {
   "cell_type": "markdown",
   "metadata": {
    "pycharm": {
     "name": "#%% md\n"
    }
   },
   "source": [
    "It has 512 features. We will use it to define clustering and overclustering heads:"
   ]
  },
  {
   "cell_type": "code",
   "execution_count": 34,
   "metadata": {
    "pycharm": {
     "name": "#%%\n"
    }
   },
   "outputs": [],
   "source": [
    "final_features = 512\n",
    "cluster_head = nn.Linear(final_features, 13)\n",
    "overcluster_head = nn.Linear(final_features, 50)"
   ]
  },
  {
   "cell_type": "markdown",
   "metadata": {
    "pycharm": {
     "name": "#%% md\n"
    }
   },
   "source": [
    "Now let's gather everything into new ```nn.Module```:"
   ]
  },
  {
   "cell_type": "code",
   "execution_count": 35,
   "metadata": {
    "pycharm": {
     "name": "#%%\n"
    }
   },
   "outputs": [],
   "source": [
    "class ResNetClusterisator(nn.Module):\n",
    "    \"\"\"Clusterisator for IIC based on ResNet18 backbone\"\"\"\n",
    "\n",
    "    def __init__(self):\n",
    "        super(ResNetClusterisator, self).__init__()\n",
    "        # The number of output features we precomputed earlier\n",
    "        final_features = 512\n",
    "\n",
    "        # Define the backbone:\n",
    "        resnet = models.resnet18(pretrained=False)\n",
    "        modules = list(resnet.children())[:-2]\n",
    "        modules[0] = nn.Conv2d(\n",
    "            1, 64, kernel_size=(7, 7), stride=(2, 2), padding=(3, 3), bias=False\n",
    "        )\n",
    "        modules.append(nn.Flatten())\n",
    "        self.backbone = nn.Sequential(*modules)\n",
    "\n",
    "        # Define clustering and overculstering heads\n",
    "        self.cluster_head = nn.Linear(final_features, 10)\n",
    "        self.overcluster_head = nn.Linear(final_features, 50)\n",
    "\n",
    "        # Define the softmax layer\n",
    "        self.softmax = nn.Softmax(dim=1)\n",
    "\n",
    "    def forward(self, x, overclustering=False):\n",
    "        \"\"\"Foward run. Can operate in both clustering an overclustering regimes\n",
    "\n",
    "        Paraneters\n",
    "        ----------\n",
    "        x : torch.tensor\n",
    "            input batch. The shape is supposed to be (B,1,28,28)\n",
    "            where B is batch size\n",
    "        overclustering : boolean\n",
    "            if True, the overclustering head is used\n",
    "            else the clustering head is used\n",
    "        \"\"\"\n",
    "        x = self.backbone(x)\n",
    "        if overclustering:\n",
    "            x = self.overcluster_head(x)\n",
    "        else:\n",
    "            x = self.cluster_head(x)\n",
    "\n",
    "        return self.softmax(x)"
   ]
  },
  {
   "cell_type": "markdown",
   "metadata": {
    "pycharm": {
     "name": "#%% md\n"
    }
   },
   "source": [
    "Now let's transfer our model to gpu and initialize the weights. Note, that in general different initializations can result in significantly different performance. Here we suppressed this effect by setting a manual seed at the beginning of the notebook."
   ]
  },
  {
   "cell_type": "code",
   "execution_count": 36,
   "metadata": {
    "pycharm": {
     "name": "#%%\n"
    }
   },
   "outputs": [
    {
     "name": "stdout",
     "output_type": "stream",
     "text": [
      "Using cpu.\n",
      "The model is transfered to cpu.\n",
      "The weights are Initialised.\n"
     ]
    }
   ],
   "source": [
    "device = torch.device(\"cuda\" if torch.cuda.is_available() else \"cpu\")\n",
    "print(\"Using %s.\" % device)\n",
    "model = ResNetClusterisator()\n",
    "model.to(device)\n",
    "print(\"The model is transfered to %s.\" % device)\n",
    "model.apply(weight_init)\n",
    "print(\"The weights are Initialised.\")"
   ]
  },
  {
   "cell_type": "markdown",
   "metadata": {
    "pycharm": {
     "name": "#%% md\n"
    }
   },
   "source": [
    "Let's check that everything is fine by making a forward run:"
   ]
  },
  {
   "cell_type": "code",
   "execution_count": 37,
   "metadata": {
    "pycharm": {
     "name": "#%%\n"
    }
   },
   "outputs": [
    {
     "name": "stdout",
     "output_type": "stream",
     "text": [
      "Model output shape in clustering mode: torch.Size([20, 10])\n",
      "Model output shape in overclustering mode: torch.Size([20, 10])\n"
     ]
    }
   ],
   "source": [
    "batch = next(iter(dataloader_train))[\"original\"]\n",
    "batch = batch.to(device)\n",
    "print(\"Model output shape in clustering mode:\", model(batch).shape)\n",
    "print(\"Model output shape in overclustering mode:\", model(batch).shape)"
   ]
  },
  {
   "cell_type": "markdown",
   "metadata": {
    "pycharm": {
     "name": "#%% md\n"
    }
   },
   "source": [
    "Fine! Let's proceed to the loss function."
   ]
  },
  {
   "cell_type": "markdown",
   "metadata": {
    "pycharm": {
     "name": "#%% md\n"
    }
   },
   "source": [
    "## Mutual information loss"
   ]
  },
  {
   "cell_type": "markdown",
   "metadata": {
    "pycharm": {
     "name": "#%% md\n"
    }
   },
   "source": [
    "The second ingredient of IIC is a mutual information loss function. This code is based on the [original paper implementation](https://github.com/xu-ji/IIC/blob/master/code/utils/cluster/IID_losses.py#L6) with a minor changes. The mathematical details of  mutual information loss can be found in [Part 2](https://github.com/vandedok/IIC_tutorial/blob/master/tutorial/part_2.md) of this tutorial."
   ]
  },
  {
   "cell_type": "markdown",
   "metadata": {
    "pycharm": {
     "name": "#%% md\n"
    }
   },
   "source": [
    "First we compute the estimation of the joint probability distribution"
   ]
  },
  {
   "cell_type": "code",
   "execution_count": 38,
   "metadata": {
    "pycharm": {
     "name": "#%%\n"
    }
   },
   "outputs": [],
   "source": [
    "def compute_joint(x_out, x_tf_out):\n",
    "    \"\"\"Estimate a joint probability distribution\n",
    "\n",
    "    Parameters\n",
    "    ----------\n",
    "    x_out : torch.tensor\n",
    "        shape (B,C) where B is a batch size, C is a number of classes\n",
    "        probabilities for the original batch\n",
    "    x_out_tf: torch.tensor\n",
    "        the same shape as x_out\n",
    "        probabilities for the trasformed batch\n",
    "\n",
    "    Returns\n",
    "    -------\n",
    "    p_i_j : torch.tensor\n",
    "        shape (C,C) where C is a number of classes (the same as in x_out)\n",
    "        joint probabilities\n",
    "\n",
    "    \"\"\"\n",
    "    # multiplying probabilities\n",
    "    p_i_j = x_out.unsqueeze(2) * x_tf_out.unsqueeze(1)  # bn, k, k\n",
    "\n",
    "    # suminng over the batch_size\n",
    "    p_i_j = p_i_j.mean(dim=0)\n",
    "\n",
    "    # Symmetriztion\n",
    "    p_i_j = (p_i_j + p_i_j.t()) / 2.0\n",
    "\n",
    "    return p_i_j"
   ]
  },
  {
   "cell_type": "markdown",
   "metadata": {
    "pycharm": {
     "name": "#%% md\n"
    }
   },
   "source": [
    "And than the mutual information. Several tricks are used here. \n",
    "\n",
    "The first one is the regularization of joint probabilities. Recall, that what we compute mutual information we take the log of joints. When some joint probabilities $p_{ij}$ are small, $\\log p_{ij}$ may be too large to be stored in float, so the NaN value will be returned. To avoid this we take a small value $\\epsilon$ and replace with it all the joints which are less than $\\epsilon$:\n",
    "\n",
    "$$\\forall p_{ij} < \\epsilon: \\log(p_{ij}) \\quad\\mathrm{is~replaced~with}\\quad \\log(\\epsilon)$$\n",
    "\n",
    "This is mathematically correct, as those logarithms come only in  such expressions as $p_{ij}\\log(p_{ij})$, which goes to zero as $p_{ij}$ goes to zero.\n",
    "\n",
    "The second one is the additional minus sign on in front of the mutual information. As we applied it, we need to minimize, not to maximize our loss."
   ]
  },
  {
   "cell_type": "code",
   "execution_count": 39,
   "metadata": {
    "pycharm": {
     "name": "#%%\n"
    }
   },
   "outputs": [],
   "source": [
    "def IID_loss(x_out, x_tf_out, lamb=1.0, EPS=sys.float_info.epsilon):\n",
    "    \"\"\"Compute mutual information loss. Theo overall minus sign is added so the loss should be minimized.\n",
    "\n",
    "    Parameters\n",
    "    ----------\n",
    "    x_out : torch.tensor\n",
    "        shape (B,C) where B is a batch size, C is a number of classes\n",
    "        probabilities for the original batch\n",
    "    x_out_tf: torch.tensor\n",
    "        the same shape as x_out\n",
    "        probabilities for the trasformed batch\n",
    "    lambd : float\n",
    "        parameter modyfing the loss.\n",
    "        Larger lamb generally pushes the model towards putting\n",
    "        spreading the samples to the different clusters of equal sizes.\n",
    "        Smaller lambd pushes the model towards putting similar images to one cluster\n",
    "    EPS : float\n",
    "        parameter to regulerize small probabilities\n",
    "\n",
    "\n",
    "    Returns\n",
    "    -------\n",
    "    loss : torch.tensor\n",
    "        shape (1,). Mutual information loss\n",
    "\n",
    "    \"\"\"\n",
    "    _, num_classes = x_out.size()\n",
    "\n",
    "    # Estimate joint probabilities\n",
    "    p_i_j = compute_joint(x_out, x_tf_out)\n",
    "    assert p_i_j.size() == (num_classes, num_classes)\n",
    "\n",
    "    # Trick to avoid NaN losses for small p_i_j\n",
    "    mask = ((p_i_j > EPS).data).type(torch.float32)\n",
    "    p_i_j = p_i_j * mask + EPS * (1 - mask)\n",
    "\n",
    "    # Computing the marginals\n",
    "    p_i = p_i_j.sum(dim=1).view(num_classes, 1).expand(num_classes, num_classes)\n",
    "    p_j = p_i_j.sum(dim=0).view(1, num_classes).expand(num_classes, num_classes)\n",
    "\n",
    "    # Compute the mutual information\n",
    "    loss = -p_i_j * (torch.log(p_i_j) - lamb * torch.log(p_j) - lamb * torch.log(p_i))\n",
    "\n",
    "    loss = torch.sum(loss)\n",
    "\n",
    "    return loss"
   ]
  },
  {
   "cell_type": "markdown",
   "metadata": {
    "pycharm": {
     "name": "#%% md\n"
    }
   },
   "source": [
    "Thats all about the loss implemetation. Now let's go to the traning!"
   ]
  },
  {
   "cell_type": "markdown",
   "metadata": {
    "pycharm": {
     "name": "#%% md\n"
    }
   },
   "source": [
    "## Training"
   ]
  },
  {
   "cell_type": "markdown",
   "metadata": {
    "pycharm": {
     "name": "#%% md\n"
    }
   },
   "source": [
    "Let's take a look at IIC forward run. Our train dataloader will give us a batch with original images, transfomed images and labels:"
   ]
  },
  {
   "cell_type": "code",
   "execution_count": 40,
   "metadata": {
    "pycharm": {
     "name": "#%%\n"
    }
   },
   "outputs": [
    {
     "name": "stdout",
     "output_type": "stream",
     "text": [
      "Batch entities: dict_keys(['original', 'label', 'aug'])\n",
      "\n",
      "Original images batch shape:     torch.Size([20, 1, 28, 28])\n",
      "Transformed images batch shape:  torch.Size([20, 1, 28, 28])\n",
      "Labels batch shape:              torch.Size([20])\n"
     ]
    }
   ],
   "source": [
    "batch = next(iter(dataloader_train))\n",
    "print(\"Batch entities:\", batch.keys(), end=\"\\n\\n\")\n",
    "print(\"Original images batch shape:     {0}\".format(batch[\"original\"].shape))\n",
    "print(\"Transformed images batch shape:  {0}\".format(batch[\"aug\"].shape))\n",
    "print(\"Labels batch shape:              {0}\".format(batch[\"label\"].shape))"
   ]
  },
  {
   "cell_type": "markdown",
   "metadata": {
    "pycharm": {
     "name": "#%% md\n"
    }
   },
   "source": [
    "We are not using labels in training. \n"
   ]
  },
  {
   "cell_type": "markdown",
   "metadata": {
    "pycharm": {
     "name": "#%% md\n"
    }
   },
   "source": [
    "After fetching the batches we transfer them to the gpu:"
   ]
  },
  {
   "cell_type": "code",
   "execution_count": 41,
   "metadata": {
    "pycharm": {
     "name": "#%%\n"
    }
   },
   "outputs": [],
   "source": [
    "inputs = batch[\"original\"]\n",
    "inputs_tf = batch[\"aug\"]\n",
    "\n",
    "inputs = inputs.to(device=device)\n",
    "inputs_tf = inputs_tf.to(device=device)"
   ]
  },
  {
   "cell_type": "markdown",
   "metadata": {
    "pycharm": {
     "name": "#%% md\n"
    }
   },
   "source": [
    "And than computing the outputs, the loss and make a backward run:"
   ]
  },
  {
   "cell_type": "code",
   "execution_count": 42,
   "metadata": {
    "pycharm": {
     "name": "#%%\n"
    }
   },
   "outputs": [
    {
     "name": "stdout",
     "output_type": "stream",
     "text": [
      "-0.009280821\n"
     ]
    }
   ],
   "source": [
    "overclustering = False\n",
    "lamb = 1.0\n",
    "outputs = model(inputs, overclustering)\n",
    "outputs_tf = model(inputs_tf, overclustering)\n",
    "loss = IID_loss(outputs, outputs_tf, lamb=lamb)\n",
    "print(loss.data.cpu().numpy())\n",
    "loss.backward()"
   ]
  },
  {
   "cell_type": "markdown",
   "metadata": {
    "pycharm": {
     "name": "#%% md\n"
    }
   },
   "source": [
    "That's it! "
   ]
  },
  {
   "cell_type": "markdown",
   "metadata": {
    "pycharm": {
     "name": "#%% md\n"
    }
   },
   "source": [
    "Before rushing into training we need a funtion to evaluate the loss. It just iterates over dataloader, makes the forward run and computes  the mean loss:"
   ]
  },
  {
   "cell_type": "code",
   "execution_count": 43,
   "metadata": {
    "pycharm": {
     "name": "#%%\n"
    }
   },
   "outputs": [],
   "source": [
    "def evaluate(\n",
    "    model, dataloader, overclustering=False, lamb=1.0, device=torch.device(\"cpu\")\n",
    "):\n",
    "    \"\"\"Calculates the model mean loss. The average is taken over the batches.\"\"\"\n",
    "\n",
    "    losses = []\n",
    "    # switch model to the eval state to prevent the training\n",
    "    model.eval()\n",
    "\n",
    "    for i, batch in enumerate(dataloader):\n",
    "\n",
    "        # forward run\n",
    "        inputs = batch[\"original\"]\n",
    "        inputs_tf = batch[\"aug\"]\n",
    "        with torch.no_grad():\n",
    "\n",
    "            inputs = inputs.to(device=device)\n",
    "            inputs_tf = inputs_tf.to(device=device)\n",
    "\n",
    "            outputs = model(inputs, overclustering)\n",
    "            outputs_tf = model(inputs_tf, overclustering)\n",
    "\n",
    "        loss = IID_loss(outputs, outputs_tf, lamb=lamb)\n",
    "\n",
    "        # combining the losses for all batches into a single list\n",
    "        losses.append(loss.data.cpu().numpy())\n",
    "\n",
    "    # output the mean loss\n",
    "    return np.mean(losses)"
   ]
  },
  {
   "cell_type": "markdown",
   "metadata": {
    "pycharm": {
     "name": "#%% md\n"
    }
   },
   "source": [
    "Recall, that in [Part 1](https://github.com/vandedok/IIC_tutorial/blob/master/tutorial/part_1.md) we discussed, that our model can greatly benefit from switching between clustering and overculstering. Here we implement it in a following way:"
   ]
  },
  {
   "cell_type": "code",
   "execution_count": 44,
   "metadata": {
    "pycharm": {
     "name": "#%%\n"
    }
   },
   "outputs": [],
   "source": [
    "def choose_clustering_regime(epoch, overcluster_period, overcluster_ratio):\n",
    "    \"\"\"Choice of the clustering regime based on the epoch number\n",
    "\n",
    "    Parameters\n",
    "    ----------\n",
    "    epoch : int\n",
    "        current epoch number\n",
    "    overcluster_period : int\n",
    "        total period for both clustering and overclustering\n",
    "    overcluster_ratio : float\n",
    "        a fraction of time to spend on overclustering\n",
    "    \"\"\"\n",
    "\n",
    "    if (\n",
    "        overcluster_period is not None\n",
    "        and epoch % overcluster_period < overcluster_period * overcluster_ratio\n",
    "    ):\n",
    "        return True\n",
    "    else:\n",
    "        return False"
   ]
  },
  {
   "cell_type": "markdown",
   "metadata": {
    "pycharm": {
     "name": "#%% md\n"
    }
   },
   "source": [
    "Now it's time to combine the forward run and the backward run in a training loop. I have also put some printing stuff here, so you can observe loss evolution during the training.  "
   ]
  },
  {
   "cell_type": "code",
   "execution_count": 45,
   "metadata": {
    "pycharm": {
     "name": "#%%\n"
    }
   },
   "outputs": [],
   "source": [
    "def IIC_train(\n",
    "    modeldataset,\n",
    "    dataloader,\n",
    "    optimizer,\n",
    "    epochs=100,\n",
    "    device=torch.device(\"cpu\"),\n",
    "    eval_every=5,\n",
    "    lamb=1.0,\n",
    "    overcluster_period=20,\n",
    "    overcluster_ratio=0.5,\n",
    "):\n",
    "    \"\"\"IIC training loop\n",
    "\n",
    "    Parameters\n",
    "    ----------\n",
    "    model : ResNetClusterisator\n",
    "        the IIC model to train\n",
    "    dataloader : torch.utils.data.dataloader.DataLoader\n",
    "        dataloader to fetch the data\n",
    "    optimizer : torch.optim.optimier like\n",
    "        your favourite optimzer\n",
    "    epochs : int\n",
    "        total number of epoches\n",
    "    device : torch.device\n",
    "        device which sould perform the trainig\n",
    "    eval_every : int\n",
    "        the freqency of evaluation\n",
    "    lamb : float\n",
    "        paramter to modyfy IID_loss (see IID_loss)\n",
    "    overcluster_period : int\n",
    "        total period for both clustering and overclustering\n",
    "    overcluster_ratio : float\n",
    "        a fraction of time to spend on overclustering\n",
    "    \"\"\"\n",
    "\n",
    "    # Lists to store epochs numbers and losses for visualisation\n",
    "    epochs_list = []\n",
    "    loss_history = []\n",
    "    loss_history_overclustering = []\n",
    "\n",
    "    # Variables for best losses\n",
    "    best_cluster_loss = 0\n",
    "    best_overcluster_loss = 0\n",
    "\n",
    "    # Progress bar instance\n",
    "    pbar = tqdm(total=len(dataloader), leave=False, desc=\"Epoch\")\n",
    "\n",
    "    for epoch in range(epochs):\n",
    "\n",
    "        # Switching the model to train mode\n",
    "        model.train()\n",
    "        # Define where the epoch is dedicated to clustering or overclustering\n",
    "        overclustering = choose_clustering_regime(\n",
    "            epoch, overcluster_period, overcluster_ratio\n",
    "        )\n",
    "\n",
    "        # Reseting the progress bar\n",
    "        pbar.reset()\n",
    "        pbar.desc = \"Epoch #%i\" % epoch\n",
    "\n",
    "        for i, batch in enumerate(dataloader):\n",
    "\n",
    "            # Nullifing the gradients\n",
    "            optimizer.zero_grad()\n",
    "\n",
    "            # Forward run\n",
    "            inputs = batch[\"original\"]\n",
    "            inputs_tf = batch[\"aug\"]\n",
    "\n",
    "            inputs = inputs.to(device=device)\n",
    "            inputs_tf = inputs_tf.to(device=device)\n",
    "\n",
    "            outputs = model(inputs, overclustering)\n",
    "            outputs_tf = model(inputs_tf, overclustering)\n",
    "            loss = IID_loss(outputs, outputs_tf, lamb=lamb)\n",
    "\n",
    "            # Backward run\n",
    "            loss.backward()\n",
    "\n",
    "            # Updating the weights\n",
    "            optimizer.step()\n",
    "\n",
    "            # Updating the progreess bar\n",
    "            pbar.update(1)\n",
    "\n",
    "        # Evaluation section\n",
    "        if (epoch + 1) % eval_every == 0:\n",
    "\n",
    "            # Computing eval losses\n",
    "            loss_eval = evaluate(\n",
    "                model, dataloader, overclustering=False, lamb=lamb, device=device\n",
    "            )\n",
    "            loss_eval_overclustering = evaluate(\n",
    "                model, dataloader, overclustering=True, lamb=lamb, device=device\n",
    "            )\n",
    "\n",
    "            loss_history.append(loss_eval)\n",
    "            loss_history_overclustering.append(loss_eval_overclustering)\n",
    "            epochs_list.append(epoch)\n",
    "\n",
    "            # Saving the model with best evaluation loss\n",
    "            if loss_eval < best_cluster_loss:\n",
    "                best_cluster_loss = loss_eval\n",
    "                torch.save(model.state_dict(), \"best_loss_model\")\n",
    "\n",
    "            pbar.close()\n",
    "\n",
    "            # Visualising the training\n",
    "            print_while_trainig(epochs_list, loss_history, loss_history_overclustering)\n",
    "\n",
    "            pbar = tqdm(total=len(dataloader), leave=False, desc=\"Epoch\")"
   ]
  },
  {
   "cell_type": "markdown",
   "metadata": {
    "pycharm": {
     "name": "#%% md\n"
    }
   },
   "source": [
    "Let's begin the training"
   ]
  },
  {
   "cell_type": "code",
   "execution_count": 33,
   "metadata": {
    "pycharm": {
     "name": "#%%\n"
    }
   },
   "outputs": [
    {
     "data": {
      "text/plain": "<Figure size 864x288 with 2 Axes>",
      "image/png": "[encoded data removed]"
     },
     "metadata": {
      "needs_background": "light"
     },
     "output_type": "display_data"
    },
    {
     "data": {
      "text/plain": "Epoch:   0%|          | 0/60 [00:00<?, ?it/s]",
      "application/vnd.jupyter.widget-view+json": {
       "version_major": 2,
       "version_minor": 0,
       "model_id": "09cca15796a24803bff1ae1c1d79bd6c"
      }
     },
     "metadata": {},
     "output_type": "display_data"
    }
   ],
   "source": [
    "optimizer = torch.optim.Adam(\n",
    "    model.parameters(),\n",
    "    lr=4e-4,\n",
    "    betas=(0.9, 0.999),\n",
    "    eps=1e-08,\n",
    "    weight_decay=0,\n",
    "    amsgrad=False,\n",
    ")\n",
    "IIC_train(\n",
    "    model,\n",
    "    dataloader_train,\n",
    "    optimizer,\n",
    "    device=device,\n",
    "    epochs=60,\n",
    "    lamb=1.2,\n",
    "    overcluster_period=20,\n",
    "    overcluster_ratio=0.5,\n",
    ")"
   ]
  },
  {
   "cell_type": "markdown",
   "metadata": {
    "pycharm": {
     "name": "#%% md\n"
    }
   },
   "source": [
    "You should see a couple non-monotonously decaying lines. When the model is in the clustering mode, overclusetring loss can grow and vice versa. However after about 60 epochs the clustering loss reaches plateau and the training can be stopped."
   ]
  },
  {
   "cell_type": "markdown",
   "metadata": {
    "pycharm": {
     "name": "#%% md\n"
    }
   },
   "source": [
    "## Evaluation"
   ]
  },
  {
   "cell_type": "markdown",
   "metadata": {
    "pycharm": {
     "name": "#%% md\n"
    }
   },
   "source": [
    "It's time to evaluate our model performance. Firstly we load the model which showed the best loss on train data: "
   ]
  },
  {
   "cell_type": "code",
   "execution_count": 46,
   "metadata": {
    "pycharm": {
     "name": "#%%\n"
    }
   },
   "outputs": [
    {
     "data": {
      "text/plain": "<All keys matched successfully>"
     },
     "execution_count": 46,
     "metadata": {},
     "output_type": "execute_result"
    }
   ],
   "source": [
    "model.load_state_dict(torch.load(\"best_loss_model\"))"
   ]
  },
  {
   "cell_type": "markdown",
   "metadata": {
    "pycharm": {
     "name": "#%% md\n"
    }
   },
   "source": [
    "### Clustering"
   ]
  },
  {
   "cell_type": "markdown",
   "metadata": {
    "pycharm": {
     "name": "#%% md\n"
    }
   },
   "source": [
    "Than we compose two labelings -- the original one and the one which is outputted by the model. Note, that in a fair clustering setting the original labels are not available, so this method is applicable only in testing _clustering method_ on a labeled dataset. "
   ]
  },
  {
   "cell_type": "code",
   "execution_count": 47,
   "metadata": {
    "pycharm": {
     "name": "#%%\n"
    }
   },
   "outputs": [],
   "source": [
    "original_labels, cluster_labels = get_cluster_labeling(\n",
    "    model, dataloader_train, device=device\n",
    ")"
   ]
  },
  {
   "cell_type": "markdown",
   "metadata": {
    "pycharm": {
     "name": "#%% md\n"
    }
   },
   "source": [
    "We visualize the results with a set of histograms. Each histograms corresponds to a certain original class and shows, how  clustering labels are distributed along this class. The best case is when all the histograms have a single huge bin. "
   ]
  },
  {
   "cell_type": "code",
   "execution_count": 48,
   "metadata": {
    "pycharm": {
     "name": "#%%\n"
    }
   },
   "outputs": [
    {
     "data": {
      "text/plain": "<Figure size 1440x288 with 10 Axes>",
      "image/png": "[encoded data removed]"
     },
     "metadata": {
      "needs_background": "light"
     },
     "output_type": "display_data"
    }
   ],
   "source": [
    "visualise_clusetering_results(original_labels, cluster_labels)"
   ]
  },
  {
   "cell_type": "markdown",
   "metadata": {
    "pycharm": {
     "name": "#%% md\n"
    }
   },
   "source": [
    "models performanceWe can also compute some clustering scores to get a numerical metrics of the clustering. Here I use [adjusted_rand_score](https://scikit-learn.org/stable/modules/generated/sklearn.metrics.adjusted_rand_score.html), [homogeneity_score](https://scikit-learn.org/stable/modules/generated/sklearn.metrics.homogeneity_score.html), [completeness_score](https://scikit-learn.org/stable/modules/generated/sklearn.metrics.completeness_score.html). The closer the values to the ones, the better:"
   ]
  },
  {
   "cell_type": "code",
   "execution_count": 49,
   "metadata": {
    "pycharm": {
     "name": "#%%\n"
    }
   },
   "outputs": [
    {
     "name": "stdout",
     "output_type": "stream",
     "text": [
      "Adjusted rand score: 0.067 \n",
      "Homogeneity score: 0.067 \n",
      "Completeness score: 0.444\n"
     ]
    }
   ],
   "source": [
    "adj_score = adjusted_rand_score(cluster_labels, original_labels)\n",
    "hom_score = homogeneity_score(cluster_labels, original_labels)\n",
    "compl_score = completeness_score(cluster_labels, original_labels)\n",
    "print(\"Adjusted rand score: %.3f \" % adj_score)\n",
    "print(\"Homogeneity score: %.3f \" % adj_score)\n",
    "print(\"Completeness score: %.3f\" % compl_score)"
   ]
  },
  {
   "cell_type": "markdown",
   "metadata": {
    "pycharm": {
     "name": "#%% md\n"
    }
   },
   "source": [
    "### Semi-supervised classification"
   ]
  },
  {
   "cell_type": "markdown",
   "metadata": {
    "pycharm": {
     "name": "#%% md\n"
    }
   },
   "source": [
    "To evaluate the model in semi-supervised classification setting, we use our val dataloader, which fetches the data previously unseen by the model"
   ]
  },
  {
   "cell_type": "code",
   "execution_count": 50,
   "metadata": {
    "pycharm": {
     "name": "#%%\n"
    }
   },
   "outputs": [],
   "source": [
    "original_labels, cluster_labels = get_cluster_labeling(\n",
    "    model, dataloader_val, device=device\n",
    ")"
   ]
  },
  {
   "cell_type": "markdown",
   "metadata": {
    "pycharm": {
     "name": "#%% md\n"
    }
   },
   "source": [
    "We visualize the labels in the same way as before:"
   ]
  },
  {
   "cell_type": "code",
   "execution_count": 51,
   "metadata": {
    "pycharm": {
     "name": "#%%\n"
    }
   },
   "outputs": [
    {
     "data": {
      "text/plain": "<Figure size 1440x288 with 10 Axes>",
      "image/png": "[encoded data removed]"
     },
     "metadata": {
      "needs_background": "light"
     },
     "output_type": "display_data"
    }
   ],
   "source": [
    "visualise_clusetering_results(original_labels, cluster_labels)"
   ]
  },
  {
   "cell_type": "markdown",
   "metadata": {
    "pycharm": {
     "name": "#%% md\n"
    }
   },
   "source": [
    "To compute usual classification metrics, we need to create a mapping from cluster labels to original labels. Function ```create_mapping``` does it by assigning the most frequent class present in the cluster:"
   ]
  },
  {
   "cell_type": "code",
   "execution_count": 52,
   "metadata": {
    "pycharm": {
     "name": "#%%\n"
    }
   },
   "outputs": [],
   "source": [
    "cluster_mapping = create_mapping(original_labels, cluster_labels)\n",
    "cluster_labels_mapped = [cluster_mapping[x] for x in cluster_labels]"
   ]
  },
  {
   "cell_type": "markdown",
   "metadata": {
    "pycharm": {
     "name": "#%% md\n"
    }
   },
   "source": [
    "The mapping is:"
   ]
  },
  {
   "cell_type": "code",
   "execution_count": 53,
   "metadata": {
    "pycharm": {
     "name": "#%%\n"
    }
   },
   "outputs": [
    {
     "name": "stdout",
     "output_type": "stream",
     "text": [
      "Cluster  Class\n",
      "  0 -----> 13\n",
      "  1 -----> 1\n",
      "  2 -----> 1\n",
      "  3 -----> 5\n",
      "  4 -----> 1\n",
      "  6 -----> 1\n",
      "  7 -----> 1\n",
      "  8 -----> 1\n",
      "  9 -----> 1\n"
     ]
    }
   ],
   "source": [
    "print_mapping(cluster_mapping)"
   ]
  },
  {
   "cell_type": "markdown",
   "metadata": {
    "pycharm": {
     "name": "#%% md\n"
    }
   },
   "source": [
    "Now the largest bins should be at the places which correspond to the original labels:"
   ]
  },
  {
   "cell_type": "code",
   "execution_count": 54,
   "metadata": {
    "pycharm": {
     "name": "#%%\n"
    }
   },
   "outputs": [
    {
     "data": {
      "text/plain": "<Figure size 1440x288 with 10 Axes>",
      "image/png": "[encoded data removed]"
     },
     "metadata": {
      "needs_background": "light"
     },
     "output_type": "display_data"
    }
   ],
   "source": [
    "visualise_clusetering_results(original_labels, cluster_labels_mapped)"
   ]
  },
  {
   "cell_type": "markdown",
   "metadata": {
    "pycharm": {
     "name": "#%% md\n"
    }
   },
   "source": [
    "The accuracy is:"
   ]
  },
  {
   "cell_type": "code",
   "execution_count": 55,
   "metadata": {
    "pycharm": {
     "name": "#%%\n"
    }
   },
   "outputs": [
    {
     "data": {
      "text/plain": "0.54"
     },
     "execution_count": 55,
     "metadata": {},
     "output_type": "execute_result"
    }
   ],
   "source": [
    "accuracy_score(original_labels, cluster_labels_mapped)"
   ]
  },
  {
   "cell_type": "markdown",
   "metadata": {
    "pycharm": {
     "name": "#%% md\n"
    }
   },
   "source": [
    "If the training was done correctly the accuracy should be grater than 0.9. The autors of the <a href=\"https://arxiv.org/abs/1807.06653\">original paper</a> achieved the accuracy of 99.2%"
   ]
  },
  {
   "cell_type": "markdown",
   "metadata": {
    "pycharm": {
     "name": "#%% md\n"
    }
   },
   "source": [
    "## Conclusion"
   ]
  },
  {
   "cell_type": "markdown",
   "metadata": {
    "pycharm": {
     "name": "#%% md\n"
    }
   },
   "source": [
    "If everything went well, by this line you have successfully trained and evaluated IIC model. Congrats!"
   ]
  }
 ],
 "metadata": {
  "kernelspec": {
   "display_name": "Python 3",
   "language": "python",
   "name": "python3"
  },
  "language_info": {
   "codemirror_mode": {
    "name": "ipython",
    "version": 3
   },
   "file_extension": ".py",
   "mimetype": "text/x-python",
   "name": "python",
   "nbconvert_exporter": "python",
   "pygments_lexer": "ipython3",
   "version": "3.8.10"
  }
 },
 "nbformat": 4,
 "nbformat_minor": 4
}